{
 "cells": [
  {
   "cell_type": "markdown",
   "metadata": {},
   "source": [
    "## Data 분석용 함수들"
   ]
  },
  {
   "cell_type": "code",
   "execution_count": 2,
   "metadata": {},
   "outputs": [
    {
     "data": {
      "text/html": [
       "<div>\n",
       "<style scoped>\n",
       "    .dataframe tbody tr th:only-of-type {\n",
       "        vertical-align: middle;\n",
       "    }\n",
       "\n",
       "    .dataframe tbody tr th {\n",
       "        vertical-align: top;\n",
       "    }\n",
       "\n",
       "    .dataframe thead th {\n",
       "        text-align: right;\n",
       "    }\n",
       "</style>\n",
       "<table border=\"1\" class=\"dataframe\">\n",
       "  <thead>\n",
       "    <tr style=\"text-align: right;\">\n",
       "      <th></th>\n",
       "      <th>one</th>\n",
       "      <th>two</th>\n",
       "    </tr>\n",
       "  </thead>\n",
       "  <tbody>\n",
       "    <tr>\n",
       "      <th>a</th>\n",
       "      <td>1.40</td>\n",
       "      <td>NaN</td>\n",
       "    </tr>\n",
       "    <tr>\n",
       "      <th>b</th>\n",
       "      <td>7.10</td>\n",
       "      <td>-4.5</td>\n",
       "    </tr>\n",
       "    <tr>\n",
       "      <th>c</th>\n",
       "      <td>NaN</td>\n",
       "      <td>NaN</td>\n",
       "    </tr>\n",
       "    <tr>\n",
       "      <th>d</th>\n",
       "      <td>0.75</td>\n",
       "      <td>-1.3</td>\n",
       "    </tr>\n",
       "  </tbody>\n",
       "</table>\n",
       "</div>"
      ],
      "text/plain": [
       "    one  two\n",
       "a  1.40  NaN\n",
       "b  7.10 -4.5\n",
       "c   NaN  NaN\n",
       "d  0.75 -1.3"
      ]
     },
     "execution_count": 2,
     "metadata": {},
     "output_type": "execute_result"
    }
   ],
   "source": [
    "import pandas as pd\n",
    "import numpy as np\n",
    "\n",
    "data = [[1.4, np.nan], [7.1, -4.5], [np.nan, np.nan], [0.75, -1.3]]\n",
    "df = pd.DataFrame(data, columns=[\"one\", \"two\"], index=[\"a\", \"b\", \"c\", \"d\"])\n",
    "df"
   ]
  },
  {
   "cell_type": "markdown",
   "metadata": {},
   "source": [
    "### 열방향으로의 합 (즉, 각 열의 합)"
   ]
  },
  {
   "cell_type": "code",
   "execution_count": 3,
   "metadata": {},
   "outputs": [
    {
     "data": {
      "text/plain": [
       "one    9.25\n",
       "two   -5.80\n",
       "dtype: float64"
      ]
     },
     "execution_count": 3,
     "metadata": {},
     "output_type": "execute_result"
    }
   ],
   "source": [
    "df.sum(axis=0)"
   ]
  },
  {
   "cell_type": "markdown",
   "metadata": {},
   "source": [
    "### 행방향으로의 합 (즉, 각 행의 합)"
   ]
  },
  {
   "cell_type": "code",
   "execution_count": 4,
   "metadata": {},
   "outputs": [
    {
     "data": {
      "text/plain": [
       "a    1.40\n",
       "b    2.60\n",
       "c    0.00\n",
       "d   -0.55\n",
       "dtype: float64"
      ]
     },
     "execution_count": 4,
     "metadata": {},
     "output_type": "execute_result"
    }
   ],
   "source": [
    "df.sum(axis=1)"
   ]
  },
  {
   "cell_type": "markdown",
   "metadata": {},
   "source": [
    "* 이때, 위에서 볼 수 있듯이 NaN값은 배제하고 계산한다."
   ]
  },
  {
   "cell_type": "markdown",
   "metadata": {},
   "source": [
    "### NaN 값을 배제하지 않고 계산하려면 아래와 같이 skipna에 대해 false를 지정해준다."
   ]
  },
  {
   "cell_type": "code",
   "execution_count": 4,
   "metadata": {},
   "outputs": [
    {
     "data": {
      "text/plain": [
       "a     NaN\n",
       "b    2.60\n",
       "c     NaN\n",
       "d   -0.55\n",
       "dtype: float64"
      ]
     },
     "execution_count": 4,
     "metadata": {},
     "output_type": "execute_result"
    }
   ],
   "source": [
    "df.sum(axis=1, skipna=False)"
   ]
  },
  {
   "cell_type": "markdown",
   "metadata": {},
   "source": [
    "### 특정 행 또는 특정 열에서만 계산하기"
   ]
  },
  {
   "cell_type": "code",
   "execution_count": 5,
   "metadata": {},
   "outputs": [
    {
     "data": {
      "text/plain": [
       "9.25"
      ]
     },
     "execution_count": 5,
     "metadata": {},
     "output_type": "execute_result"
    }
   ],
   "source": [
    "df['one'].sum()"
   ]
  },
  {
   "cell_type": "code",
   "execution_count": 6,
   "metadata": {},
   "outputs": [
    {
     "data": {
      "text/plain": [
       "2.5999999999999996"
      ]
     },
     "execution_count": 6,
     "metadata": {},
     "output_type": "execute_result"
    }
   ],
   "source": [
    "df.loc['b'].sum()"
   ]
  },
  {
   "cell_type": "markdown",
   "metadata": {},
   "source": [
    "## pandas에서 DataFrame에 적용되는 함수들\n",
    "* count 전체 성분의 (NaN이 아닌) 값의 갯수를 계산\n",
    "* min, max 전체 성분의 최솟, 최댓값을 계산\n",
    "* argmin, argmax 전체 성분의 최솟값, 최댓값이 위치한 (정수)인덱스를 반환\n",
    "* idxmin, idxmax 전체 인덱스 중 최솟값, 최댓값을 반환\n",
    "* quantile 전체 성분의 특정 사분위수에 해당하는 값을 반환 (0~1 사이)\n",
    "* sum 전체 성분의 합을 계산\n",
    "* mean 전체 성분의 평균을 계산\n",
    "* median 전체 성분의 중간 값을 반환\n",
    "* mad 전체 성분의 평균 값으로부터의 절대 편차(absolute deviation)의 평균을 계산\n",
    "* std, var 전체 성분의 표준편차, 분산을 계산\n",
    "* cumsum 맨 첫 번째 성분부터 각 성분까지의 누적합을 계산 (0에서부터 계속 더해짐)\n",
    "* cumprod 맨 첫번째 성분부터 각 성분까지의 누적곱을 계산 (1에서부터 계속 곱해짐)"
   ]
  },
  {
   "cell_type": "code",
   "execution_count": 6,
   "metadata": {},
   "outputs": [
    {
     "data": {
      "text/html": [
       "<div>\n",
       "<style scoped>\n",
       "    .dataframe tbody tr th:only-of-type {\n",
       "        vertical-align: middle;\n",
       "    }\n",
       "\n",
       "    .dataframe tbody tr th {\n",
       "        vertical-align: top;\n",
       "    }\n",
       "\n",
       "    .dataframe thead th {\n",
       "        text-align: right;\n",
       "    }\n",
       "</style>\n",
       "<table border=\"1\" class=\"dataframe\">\n",
       "  <thead>\n",
       "    <tr style=\"text-align: right;\">\n",
       "      <th></th>\n",
       "      <th>A</th>\n",
       "      <th>B</th>\n",
       "      <th>C</th>\n",
       "      <th>D</th>\n",
       "    </tr>\n",
       "  </thead>\n",
       "  <tbody>\n",
       "    <tr>\n",
       "      <th>2019-06-01</th>\n",
       "      <td>0.315073</td>\n",
       "      <td>1.153150</td>\n",
       "      <td>-0.181305</td>\n",
       "      <td>1.293432</td>\n",
       "    </tr>\n",
       "    <tr>\n",
       "      <th>2019-06-02</th>\n",
       "      <td>2.267987</td>\n",
       "      <td>1.364987</td>\n",
       "      <td>-0.383780</td>\n",
       "      <td>-0.113308</td>\n",
       "    </tr>\n",
       "    <tr>\n",
       "      <th>2019-06-03</th>\n",
       "      <td>0.962168</td>\n",
       "      <td>0.872061</td>\n",
       "      <td>-0.662046</td>\n",
       "      <td>-1.064587</td>\n",
       "    </tr>\n",
       "    <tr>\n",
       "      <th>2019-06-04</th>\n",
       "      <td>2.289349</td>\n",
       "      <td>-0.220349</td>\n",
       "      <td>0.783818</td>\n",
       "      <td>-1.860752</td>\n",
       "    </tr>\n",
       "    <tr>\n",
       "      <th>2019-06-05</th>\n",
       "      <td>-2.289071</td>\n",
       "      <td>0.583500</td>\n",
       "      <td>0.287060</td>\n",
       "      <td>-3.105647</td>\n",
       "    </tr>\n",
       "    <tr>\n",
       "      <th>2019-06-06</th>\n",
       "      <td>-0.119450</td>\n",
       "      <td>0.059149</td>\n",
       "      <td>-1.966143</td>\n",
       "      <td>-0.663457</td>\n",
       "    </tr>\n",
       "  </tbody>\n",
       "</table>\n",
       "</div>"
      ],
      "text/plain": [
       "                   A         B         C         D\n",
       "2019-06-01  0.315073  1.153150 -0.181305  1.293432\n",
       "2019-06-02  2.267987  1.364987 -0.383780 -0.113308\n",
       "2019-06-03  0.962168  0.872061 -0.662046 -1.064587\n",
       "2019-06-04  2.289349 -0.220349  0.783818 -1.860752\n",
       "2019-06-05 -2.289071  0.583500  0.287060 -3.105647\n",
       "2019-06-06 -0.119450  0.059149 -1.966143 -0.663457"
      ]
     },
     "execution_count": 6,
     "metadata": {},
     "output_type": "execute_result"
    }
   ],
   "source": [
    "import pandas as pd\n",
    "import numpy as np\n",
    "\n",
    "df2 = pd.DataFrame(np.random.randn(6, 4),\n",
    "                   columns=[\"A\", \"B\", \"C\", \"D\"],\n",
    "                   index=pd.date_range(\"20190601\", periods=6))\n",
    "df2"
   ]
  },
  {
   "cell_type": "markdown",
   "metadata": {},
   "source": [
    "### A열과 B열의 상관계수 구하기"
   ]
  },
  {
   "cell_type": "code",
   "execution_count": 7,
   "metadata": {},
   "outputs": [
    {
     "data": {
      "text/plain": [
       "0.051516058498376836"
      ]
     },
     "execution_count": 7,
     "metadata": {},
     "output_type": "execute_result"
    }
   ],
   "source": [
    "# A열과 B열의 상관계수(CoRelation) 구하기\n",
    "df2['A'].corr(df2['B'])"
   ]
  },
  {
   "cell_type": "markdown",
   "metadata": {},
   "source": [
    "### B열과 C열의 공분산 구하기"
   ]
  },
  {
   "cell_type": "code",
   "execution_count": 12,
   "metadata": {},
   "outputs": [
    {
     "data": {
      "text/plain": [
       "0.22081927475426905"
      ]
     },
     "execution_count": 12,
     "metadata": {},
     "output_type": "execute_result"
    }
   ],
   "source": [
    "# B열과 C열의 공분산(CoVariance) 구하기\n",
    "df2['B'].____(df2['C'])"
   ]
  },
  {
   "cell_type": "markdown",
   "metadata": {},
   "source": [
    "## 정렬함수 및 기타함수"
   ]
  },
  {
   "cell_type": "code",
   "execution_count": 14,
   "metadata": {},
   "outputs": [
    {
     "data": {
      "text/html": [
       "<div>\n",
       "<style scoped>\n",
       "    .dataframe tbody tr th:only-of-type {\n",
       "        vertical-align: middle;\n",
       "    }\n",
       "\n",
       "    .dataframe tbody tr th {\n",
       "        vertical-align: top;\n",
       "    }\n",
       "\n",
       "    .dataframe thead th {\n",
       "        text-align: right;\n",
       "    }\n",
       "</style>\n",
       "<table border=\"1\" class=\"dataframe\">\n",
       "  <thead>\n",
       "    <tr style=\"text-align: right;\">\n",
       "      <th></th>\n",
       "      <th>D</th>\n",
       "      <th>B</th>\n",
       "      <th>C</th>\n",
       "      <th>A</th>\n",
       "    </tr>\n",
       "  </thead>\n",
       "  <tbody>\n",
       "    <tr>\n",
       "      <th>2019-06-04</th>\n",
       "      <td>1.169608</td>\n",
       "      <td>-0.315985</td>\n",
       "      <td>-0.188119</td>\n",
       "      <td>2.462044</td>\n",
       "    </tr>\n",
       "    <tr>\n",
       "      <th>2019-06-01</th>\n",
       "      <td>0.417706</td>\n",
       "      <td>-0.359343</td>\n",
       "      <td>-1.027746</td>\n",
       "      <td>-0.346147</td>\n",
       "    </tr>\n",
       "    <tr>\n",
       "      <th>2019-06-03</th>\n",
       "      <td>2.215959</td>\n",
       "      <td>0.561234</td>\n",
       "      <td>0.011623</td>\n",
       "      <td>-0.262752</td>\n",
       "    </tr>\n",
       "    <tr>\n",
       "      <th>2019-06-02</th>\n",
       "      <td>0.221593</td>\n",
       "      <td>-0.416922</td>\n",
       "      <td>-1.050768</td>\n",
       "      <td>1.939523</td>\n",
       "    </tr>\n",
       "    <tr>\n",
       "      <th>2019-06-05</th>\n",
       "      <td>1.599636</td>\n",
       "      <td>1.462682</td>\n",
       "      <td>-0.157340</td>\n",
       "      <td>-0.545625</td>\n",
       "    </tr>\n",
       "    <tr>\n",
       "      <th>2019-06-06</th>\n",
       "      <td>-0.578222</td>\n",
       "      <td>0.642638</td>\n",
       "      <td>-0.452580</td>\n",
       "      <td>0.585051</td>\n",
       "    </tr>\n",
       "  </tbody>\n",
       "</table>\n",
       "</div>"
      ],
      "text/plain": [
       "                   D         B         C         A\n",
       "2019-06-04  1.169608 -0.315985 -0.188119  2.462044\n",
       "2019-06-01  0.417706 -0.359343 -1.027746 -0.346147\n",
       "2019-06-03  2.215959  0.561234  0.011623 -0.262752\n",
       "2019-06-02  0.221593 -0.416922 -1.050768  1.939523\n",
       "2019-06-05  1.599636  1.462682 -0.157340 -0.545625\n",
       "2019-06-06 -0.578222  0.642638 -0.452580  0.585051"
      ]
     },
     "execution_count": 14,
     "metadata": {},
     "output_type": "execute_result"
    }
   ],
   "source": [
    "dates = df2.index\n",
    "random_dates = np.random.permutation(dates)\n",
    "df2 = df2.reindex(index=random_dates, columns=[\"D\", \"B\", \"C\", \"A\"])\n",
    "df2"
   ]
  },
  {
   "cell_type": "code",
   "execution_count": 15,
   "metadata": {},
   "outputs": [
    {
     "data": {
      "text/html": [
       "<div>\n",
       "<style scoped>\n",
       "    .dataframe tbody tr th:only-of-type {\n",
       "        vertical-align: middle;\n",
       "    }\n",
       "\n",
       "    .dataframe tbody tr th {\n",
       "        vertical-align: top;\n",
       "    }\n",
       "\n",
       "    .dataframe thead th {\n",
       "        text-align: right;\n",
       "    }\n",
       "</style>\n",
       "<table border=\"1\" class=\"dataframe\">\n",
       "  <thead>\n",
       "    <tr style=\"text-align: right;\">\n",
       "      <th></th>\n",
       "      <th>D</th>\n",
       "      <th>B</th>\n",
       "      <th>C</th>\n",
       "      <th>A</th>\n",
       "    </tr>\n",
       "  </thead>\n",
       "  <tbody>\n",
       "    <tr>\n",
       "      <th>2019-06-01</th>\n",
       "      <td>0.417706</td>\n",
       "      <td>-0.359343</td>\n",
       "      <td>-1.027746</td>\n",
       "      <td>-0.346147</td>\n",
       "    </tr>\n",
       "    <tr>\n",
       "      <th>2019-06-02</th>\n",
       "      <td>0.221593</td>\n",
       "      <td>-0.416922</td>\n",
       "      <td>-1.050768</td>\n",
       "      <td>1.939523</td>\n",
       "    </tr>\n",
       "    <tr>\n",
       "      <th>2019-06-03</th>\n",
       "      <td>2.215959</td>\n",
       "      <td>0.561234</td>\n",
       "      <td>0.011623</td>\n",
       "      <td>-0.262752</td>\n",
       "    </tr>\n",
       "    <tr>\n",
       "      <th>2019-06-04</th>\n",
       "      <td>1.169608</td>\n",
       "      <td>-0.315985</td>\n",
       "      <td>-0.188119</td>\n",
       "      <td>2.462044</td>\n",
       "    </tr>\n",
       "    <tr>\n",
       "      <th>2019-06-05</th>\n",
       "      <td>1.599636</td>\n",
       "      <td>1.462682</td>\n",
       "      <td>-0.157340</td>\n",
       "      <td>-0.545625</td>\n",
       "    </tr>\n",
       "    <tr>\n",
       "      <th>2019-06-06</th>\n",
       "      <td>-0.578222</td>\n",
       "      <td>0.642638</td>\n",
       "      <td>-0.452580</td>\n",
       "      <td>0.585051</td>\n",
       "    </tr>\n",
       "  </tbody>\n",
       "</table>\n",
       "</div>"
      ],
      "text/plain": [
       "                   D         B         C         A\n",
       "2019-06-01  0.417706 -0.359343 -1.027746 -0.346147\n",
       "2019-06-02  0.221593 -0.416922 -1.050768  1.939523\n",
       "2019-06-03  2.215959  0.561234  0.011623 -0.262752\n",
       "2019-06-04  1.169608 -0.315985 -0.188119  2.462044\n",
       "2019-06-05  1.599636  1.462682 -0.157340 -0.545625\n",
       "2019-06-06 -0.578222  0.642638 -0.452580  0.585051"
      ]
     },
     "execution_count": 15,
     "metadata": {},
     "output_type": "execute_result"
    }
   ],
   "source": [
    "# index와 column의 순서가 섞여있다.\n",
    "# 이때 index가 오름차순이 되도록 정렬해보자\n",
    "df2._____"
   ]
  },
  {
   "cell_type": "code",
   "execution_count": 11,
   "metadata": {},
   "outputs": [
    {
     "data": {
      "text/html": [
       "<div>\n",
       "<style scoped>\n",
       "    .dataframe tbody tr th:only-of-type {\n",
       "        vertical-align: middle;\n",
       "    }\n",
       "\n",
       "    .dataframe tbody tr th {\n",
       "        vertical-align: top;\n",
       "    }\n",
       "\n",
       "    .dataframe thead th {\n",
       "        text-align: right;\n",
       "    }\n",
       "</style>\n",
       "<table border=\"1\" class=\"dataframe\">\n",
       "  <thead>\n",
       "    <tr style=\"text-align: right;\">\n",
       "      <th></th>\n",
       "      <th>A</th>\n",
       "      <th>B</th>\n",
       "      <th>C</th>\n",
       "      <th>D</th>\n",
       "    </tr>\n",
       "  </thead>\n",
       "  <tbody>\n",
       "    <tr>\n",
       "      <th>2019-06-01</th>\n",
       "      <td>0.315073</td>\n",
       "      <td>1.153150</td>\n",
       "      <td>-0.181305</td>\n",
       "      <td>1.293432</td>\n",
       "    </tr>\n",
       "    <tr>\n",
       "      <th>2019-06-02</th>\n",
       "      <td>2.267987</td>\n",
       "      <td>1.364987</td>\n",
       "      <td>-0.383780</td>\n",
       "      <td>-0.113308</td>\n",
       "    </tr>\n",
       "    <tr>\n",
       "      <th>2019-06-03</th>\n",
       "      <td>0.962168</td>\n",
       "      <td>0.872061</td>\n",
       "      <td>-0.662046</td>\n",
       "      <td>-1.064587</td>\n",
       "    </tr>\n",
       "    <tr>\n",
       "      <th>2019-06-04</th>\n",
       "      <td>2.289349</td>\n",
       "      <td>-0.220349</td>\n",
       "      <td>0.783818</td>\n",
       "      <td>-1.860752</td>\n",
       "    </tr>\n",
       "    <tr>\n",
       "      <th>2019-06-05</th>\n",
       "      <td>-2.289071</td>\n",
       "      <td>0.583500</td>\n",
       "      <td>0.287060</td>\n",
       "      <td>-3.105647</td>\n",
       "    </tr>\n",
       "    <tr>\n",
       "      <th>2019-06-06</th>\n",
       "      <td>-0.119450</td>\n",
       "      <td>0.059149</td>\n",
       "      <td>-1.966143</td>\n",
       "      <td>-0.663457</td>\n",
       "    </tr>\n",
       "  </tbody>\n",
       "</table>\n",
       "</div>"
      ],
      "text/plain": [
       "                   A         B         C         D\n",
       "2019-06-01  0.315073  1.153150 -0.181305  1.293432\n",
       "2019-06-02  2.267987  1.364987 -0.383780 -0.113308\n",
       "2019-06-03  0.962168  0.872061 -0.662046 -1.064587\n",
       "2019-06-04  2.289349 -0.220349  0.783818 -1.860752\n",
       "2019-06-05 -2.289071  0.583500  0.287060 -3.105647\n",
       "2019-06-06 -0.119450  0.059149 -1.966143 -0.663457"
      ]
     },
     "execution_count": 11,
     "metadata": {},
     "output_type": "execute_result"
    }
   ],
   "source": [
    "df2.sort_index(axis=1)"
   ]
  },
  {
   "cell_type": "code",
   "execution_count": 17,
   "metadata": {},
   "outputs": [
    {
     "data": {
      "text/html": [
       "<div>\n",
       "<style scoped>\n",
       "    .dataframe tbody tr th:only-of-type {\n",
       "        vertical-align: middle;\n",
       "    }\n",
       "\n",
       "    .dataframe tbody tr th {\n",
       "        vertical-align: top;\n",
       "    }\n",
       "\n",
       "    .dataframe thead th {\n",
       "        text-align: right;\n",
       "    }\n",
       "</style>\n",
       "<table border=\"1\" class=\"dataframe\">\n",
       "  <thead>\n",
       "    <tr style=\"text-align: right;\">\n",
       "      <th></th>\n",
       "      <th>D</th>\n",
       "      <th>C</th>\n",
       "      <th>B</th>\n",
       "      <th>A</th>\n",
       "    </tr>\n",
       "  </thead>\n",
       "  <tbody>\n",
       "    <tr>\n",
       "      <th>2019-06-04</th>\n",
       "      <td>1.169608</td>\n",
       "      <td>-0.188119</td>\n",
       "      <td>-0.315985</td>\n",
       "      <td>2.462044</td>\n",
       "    </tr>\n",
       "    <tr>\n",
       "      <th>2019-06-01</th>\n",
       "      <td>0.417706</td>\n",
       "      <td>-1.027746</td>\n",
       "      <td>-0.359343</td>\n",
       "      <td>-0.346147</td>\n",
       "    </tr>\n",
       "    <tr>\n",
       "      <th>2019-06-03</th>\n",
       "      <td>2.215959</td>\n",
       "      <td>0.011623</td>\n",
       "      <td>0.561234</td>\n",
       "      <td>-0.262752</td>\n",
       "    </tr>\n",
       "    <tr>\n",
       "      <th>2019-06-02</th>\n",
       "      <td>0.221593</td>\n",
       "      <td>-1.050768</td>\n",
       "      <td>-0.416922</td>\n",
       "      <td>1.939523</td>\n",
       "    </tr>\n",
       "    <tr>\n",
       "      <th>2019-06-05</th>\n",
       "      <td>1.599636</td>\n",
       "      <td>-0.157340</td>\n",
       "      <td>1.462682</td>\n",
       "      <td>-0.545625</td>\n",
       "    </tr>\n",
       "    <tr>\n",
       "      <th>2019-06-06</th>\n",
       "      <td>-0.578222</td>\n",
       "      <td>-0.452580</td>\n",
       "      <td>0.642638</td>\n",
       "      <td>0.585051</td>\n",
       "    </tr>\n",
       "  </tbody>\n",
       "</table>\n",
       "</div>"
      ],
      "text/plain": [
       "                   D         C         B         A\n",
       "2019-06-04  1.169608 -0.188119 -0.315985  2.462044\n",
       "2019-06-01  0.417706 -1.027746 -0.359343 -0.346147\n",
       "2019-06-03  2.215959  0.011623  0.561234 -0.262752\n",
       "2019-06-02  0.221593 -1.050768 -0.416922  1.939523\n",
       "2019-06-05  1.599636 -0.157340  1.462682 -0.545625\n",
       "2019-06-06 -0.578222 -0.452580  0.642638  0.585051"
      ]
     },
     "execution_count": 17,
     "metadata": {},
     "output_type": "execute_result"
    }
   ],
   "source": [
    "# 내림차순으로 정렬 \n",
    "df2.sort_index(axis=1, ascending=False)"
   ]
  },
  {
   "cell_type": "code",
   "execution_count": 18,
   "metadata": {},
   "outputs": [
    {
     "data": {
      "text/html": [
       "<div>\n",
       "<style scoped>\n",
       "    .dataframe tbody tr th:only-of-type {\n",
       "        vertical-align: middle;\n",
       "    }\n",
       "\n",
       "    .dataframe tbody tr th {\n",
       "        vertical-align: top;\n",
       "    }\n",
       "\n",
       "    .dataframe thead th {\n",
       "        text-align: right;\n",
       "    }\n",
       "</style>\n",
       "<table border=\"1\" class=\"dataframe\">\n",
       "  <thead>\n",
       "    <tr style=\"text-align: right;\">\n",
       "      <th></th>\n",
       "      <th>D</th>\n",
       "      <th>B</th>\n",
       "      <th>C</th>\n",
       "      <th>A</th>\n",
       "    </tr>\n",
       "  </thead>\n",
       "  <tbody>\n",
       "    <tr>\n",
       "      <th>2019-06-06</th>\n",
       "      <td>-0.578222</td>\n",
       "      <td>0.642638</td>\n",
       "      <td>-0.452580</td>\n",
       "      <td>0.585051</td>\n",
       "    </tr>\n",
       "    <tr>\n",
       "      <th>2019-06-02</th>\n",
       "      <td>0.221593</td>\n",
       "      <td>-0.416922</td>\n",
       "      <td>-1.050768</td>\n",
       "      <td>1.939523</td>\n",
       "    </tr>\n",
       "    <tr>\n",
       "      <th>2019-06-01</th>\n",
       "      <td>0.417706</td>\n",
       "      <td>-0.359343</td>\n",
       "      <td>-1.027746</td>\n",
       "      <td>-0.346147</td>\n",
       "    </tr>\n",
       "    <tr>\n",
       "      <th>2019-06-04</th>\n",
       "      <td>1.169608</td>\n",
       "      <td>-0.315985</td>\n",
       "      <td>-0.188119</td>\n",
       "      <td>2.462044</td>\n",
       "    </tr>\n",
       "    <tr>\n",
       "      <th>2019-06-05</th>\n",
       "      <td>1.599636</td>\n",
       "      <td>1.462682</td>\n",
       "      <td>-0.157340</td>\n",
       "      <td>-0.545625</td>\n",
       "    </tr>\n",
       "    <tr>\n",
       "      <th>2019-06-03</th>\n",
       "      <td>2.215959</td>\n",
       "      <td>0.561234</td>\n",
       "      <td>0.011623</td>\n",
       "      <td>-0.262752</td>\n",
       "    </tr>\n",
       "  </tbody>\n",
       "</table>\n",
       "</div>"
      ],
      "text/plain": [
       "                   D         B         C         A\n",
       "2019-06-06 -0.578222  0.642638 -0.452580  0.585051\n",
       "2019-06-02  0.221593 -0.416922 -1.050768  1.939523\n",
       "2019-06-01  0.417706 -0.359343 -1.027746 -0.346147\n",
       "2019-06-04  1.169608 -0.315985 -0.188119  2.462044\n",
       "2019-06-05  1.599636  1.462682 -0.157340 -0.545625\n",
       "2019-06-03  2.215959  0.561234  0.011623 -0.262752"
      ]
     },
     "execution_count": 18,
     "metadata": {},
     "output_type": "execute_result"
    }
   ],
   "source": [
    "# 값 기준 정렬하기\n",
    "# D열의 값이 오름차순이 되도록 정렬하기\n",
    "df2.______"
   ]
  },
  {
   "cell_type": "code",
   "execution_count": 13,
   "metadata": {},
   "outputs": [
    {
     "data": {
      "text/html": [
       "<div>\n",
       "<style scoped>\n",
       "    .dataframe tbody tr th:only-of-type {\n",
       "        vertical-align: middle;\n",
       "    }\n",
       "\n",
       "    .dataframe tbody tr th {\n",
       "        vertical-align: top;\n",
       "    }\n",
       "\n",
       "    .dataframe thead th {\n",
       "        text-align: right;\n",
       "    }\n",
       "</style>\n",
       "<table border=\"1\" class=\"dataframe\">\n",
       "  <thead>\n",
       "    <tr style=\"text-align: right;\">\n",
       "      <th></th>\n",
       "      <th>A</th>\n",
       "      <th>B</th>\n",
       "      <th>C</th>\n",
       "      <th>D</th>\n",
       "    </tr>\n",
       "  </thead>\n",
       "  <tbody>\n",
       "    <tr>\n",
       "      <th>2019-06-02</th>\n",
       "      <td>2.267987</td>\n",
       "      <td>1.364987</td>\n",
       "      <td>-0.383780</td>\n",
       "      <td>-0.113308</td>\n",
       "    </tr>\n",
       "    <tr>\n",
       "      <th>2019-06-01</th>\n",
       "      <td>0.315073</td>\n",
       "      <td>1.153150</td>\n",
       "      <td>-0.181305</td>\n",
       "      <td>1.293432</td>\n",
       "    </tr>\n",
       "    <tr>\n",
       "      <th>2019-06-03</th>\n",
       "      <td>0.962168</td>\n",
       "      <td>0.872061</td>\n",
       "      <td>-0.662046</td>\n",
       "      <td>-1.064587</td>\n",
       "    </tr>\n",
       "    <tr>\n",
       "      <th>2019-06-05</th>\n",
       "      <td>-2.289071</td>\n",
       "      <td>0.583500</td>\n",
       "      <td>0.287060</td>\n",
       "      <td>-3.105647</td>\n",
       "    </tr>\n",
       "    <tr>\n",
       "      <th>2019-06-06</th>\n",
       "      <td>-0.119450</td>\n",
       "      <td>0.059149</td>\n",
       "      <td>-1.966143</td>\n",
       "      <td>-0.663457</td>\n",
       "    </tr>\n",
       "    <tr>\n",
       "      <th>2019-06-04</th>\n",
       "      <td>2.289349</td>\n",
       "      <td>-0.220349</td>\n",
       "      <td>0.783818</td>\n",
       "      <td>-1.860752</td>\n",
       "    </tr>\n",
       "  </tbody>\n",
       "</table>\n",
       "</div>"
      ],
      "text/plain": [
       "                   A         B         C         D\n",
       "2019-06-02  2.267987  1.364987 -0.383780 -0.113308\n",
       "2019-06-01  0.315073  1.153150 -0.181305  1.293432\n",
       "2019-06-03  0.962168  0.872061 -0.662046 -1.064587\n",
       "2019-06-05 -2.289071  0.583500  0.287060 -3.105647\n",
       "2019-06-06 -0.119450  0.059149 -1.966143 -0.663457\n",
       "2019-06-04  2.289349 -0.220349  0.783818 -1.860752"
      ]
     },
     "execution_count": 13,
     "metadata": {},
     "output_type": "execute_result"
    }
   ],
   "source": [
    "# B열의 값이 내림차순이 되도록 정렬하기\n",
    "df2.sort_values(by='B', ascending=False)"
   ]
  },
  {
   "cell_type": "code",
   "execution_count": 16,
   "metadata": {},
   "outputs": [
    {
     "data": {
      "text/html": [
       "<div>\n",
       "<style scoped>\n",
       "    .dataframe tbody tr th:only-of-type {\n",
       "        vertical-align: middle;\n",
       "    }\n",
       "\n",
       "    .dataframe tbody tr th {\n",
       "        vertical-align: top;\n",
       "    }\n",
       "\n",
       "    .dataframe thead th {\n",
       "        text-align: right;\n",
       "    }\n",
       "</style>\n",
       "<table border=\"1\" class=\"dataframe\">\n",
       "  <thead>\n",
       "    <tr style=\"text-align: right;\">\n",
       "      <th></th>\n",
       "      <th>A</th>\n",
       "      <th>B</th>\n",
       "      <th>C</th>\n",
       "      <th>D</th>\n",
       "      <th>E</th>\n",
       "      <th>F</th>\n",
       "    </tr>\n",
       "  </thead>\n",
       "  <tbody>\n",
       "    <tr>\n",
       "      <th>2019-06-01</th>\n",
       "      <td>0.315073</td>\n",
       "      <td>1.153150</td>\n",
       "      <td>-0.181305</td>\n",
       "      <td>1.293432</td>\n",
       "      <td>5</td>\n",
       "      <td>alpha</td>\n",
       "    </tr>\n",
       "    <tr>\n",
       "      <th>2019-06-02</th>\n",
       "      <td>2.267987</td>\n",
       "      <td>1.364987</td>\n",
       "      <td>-0.383780</td>\n",
       "      <td>-0.113308</td>\n",
       "      <td>4</td>\n",
       "      <td>beta</td>\n",
       "    </tr>\n",
       "    <tr>\n",
       "      <th>2019-06-03</th>\n",
       "      <td>0.962168</td>\n",
       "      <td>0.872061</td>\n",
       "      <td>-0.662046</td>\n",
       "      <td>-1.064587</td>\n",
       "      <td>3</td>\n",
       "      <td>gamma</td>\n",
       "    </tr>\n",
       "    <tr>\n",
       "      <th>2019-06-04</th>\n",
       "      <td>2.289349</td>\n",
       "      <td>-0.220349</td>\n",
       "      <td>0.783818</td>\n",
       "      <td>-1.860752</td>\n",
       "      <td>4</td>\n",
       "      <td>gamma</td>\n",
       "    </tr>\n",
       "    <tr>\n",
       "      <th>2019-06-05</th>\n",
       "      <td>-2.289071</td>\n",
       "      <td>0.583500</td>\n",
       "      <td>0.287060</td>\n",
       "      <td>-3.105647</td>\n",
       "      <td>2</td>\n",
       "      <td>alpha</td>\n",
       "    </tr>\n",
       "    <tr>\n",
       "      <th>2019-06-06</th>\n",
       "      <td>-0.119450</td>\n",
       "      <td>0.059149</td>\n",
       "      <td>-1.966143</td>\n",
       "      <td>-0.663457</td>\n",
       "      <td>0</td>\n",
       "      <td>gamma</td>\n",
       "    </tr>\n",
       "  </tbody>\n",
       "</table>\n",
       "</div>"
      ],
      "text/plain": [
       "                   A         B         C         D  E      F\n",
       "2019-06-01  0.315073  1.153150 -0.181305  1.293432  5  alpha\n",
       "2019-06-02  2.267987  1.364987 -0.383780 -0.113308  4   beta\n",
       "2019-06-03  0.962168  0.872061 -0.662046 -1.064587  3  gamma\n",
       "2019-06-04  2.289349 -0.220349  0.783818 -1.860752  4  gamma\n",
       "2019-06-05 -2.289071  0.583500  0.287060 -3.105647  2  alpha\n",
       "2019-06-06 -0.119450  0.059149 -1.966143 -0.663457  0  gamma"
      ]
     },
     "execution_count": 16,
     "metadata": {},
     "output_type": "execute_result"
    }
   ],
   "source": [
    "df2[\"E\"] = np.random.randint(0, 6, size=6)\n",
    "df2[\"F\"] = [\"alpha\", \"beta\", \"gamma\", \"gamma\", \"alpha\", \"gamma\"]\n",
    "df2"
   ]
  },
  {
   "cell_type": "code",
   "execution_count": 17,
   "metadata": {},
   "outputs": [
    {
     "data": {
      "text/html": [
       "<div>\n",
       "<style scoped>\n",
       "    .dataframe tbody tr th:only-of-type {\n",
       "        vertical-align: middle;\n",
       "    }\n",
       "\n",
       "    .dataframe tbody tr th {\n",
       "        vertical-align: top;\n",
       "    }\n",
       "\n",
       "    .dataframe thead th {\n",
       "        text-align: right;\n",
       "    }\n",
       "</style>\n",
       "<table border=\"1\" class=\"dataframe\">\n",
       "  <thead>\n",
       "    <tr style=\"text-align: right;\">\n",
       "      <th></th>\n",
       "      <th>A</th>\n",
       "      <th>B</th>\n",
       "      <th>C</th>\n",
       "      <th>D</th>\n",
       "      <th>E</th>\n",
       "      <th>F</th>\n",
       "    </tr>\n",
       "  </thead>\n",
       "  <tbody>\n",
       "    <tr>\n",
       "      <th>2019-06-06</th>\n",
       "      <td>-0.119450</td>\n",
       "      <td>0.059149</td>\n",
       "      <td>-1.966143</td>\n",
       "      <td>-0.663457</td>\n",
       "      <td>0</td>\n",
       "      <td>gamma</td>\n",
       "    </tr>\n",
       "    <tr>\n",
       "      <th>2019-06-05</th>\n",
       "      <td>-2.289071</td>\n",
       "      <td>0.583500</td>\n",
       "      <td>0.287060</td>\n",
       "      <td>-3.105647</td>\n",
       "      <td>2</td>\n",
       "      <td>alpha</td>\n",
       "    </tr>\n",
       "    <tr>\n",
       "      <th>2019-06-03</th>\n",
       "      <td>0.962168</td>\n",
       "      <td>0.872061</td>\n",
       "      <td>-0.662046</td>\n",
       "      <td>-1.064587</td>\n",
       "      <td>3</td>\n",
       "      <td>gamma</td>\n",
       "    </tr>\n",
       "    <tr>\n",
       "      <th>2019-06-02</th>\n",
       "      <td>2.267987</td>\n",
       "      <td>1.364987</td>\n",
       "      <td>-0.383780</td>\n",
       "      <td>-0.113308</td>\n",
       "      <td>4</td>\n",
       "      <td>beta</td>\n",
       "    </tr>\n",
       "    <tr>\n",
       "      <th>2019-06-04</th>\n",
       "      <td>2.289349</td>\n",
       "      <td>-0.220349</td>\n",
       "      <td>0.783818</td>\n",
       "      <td>-1.860752</td>\n",
       "      <td>4</td>\n",
       "      <td>gamma</td>\n",
       "    </tr>\n",
       "    <tr>\n",
       "      <th>2019-06-01</th>\n",
       "      <td>0.315073</td>\n",
       "      <td>1.153150</td>\n",
       "      <td>-0.181305</td>\n",
       "      <td>1.293432</td>\n",
       "      <td>5</td>\n",
       "      <td>alpha</td>\n",
       "    </tr>\n",
       "  </tbody>\n",
       "</table>\n",
       "</div>"
      ],
      "text/plain": [
       "                   A         B         C         D  E      F\n",
       "2019-06-06 -0.119450  0.059149 -1.966143 -0.663457  0  gamma\n",
       "2019-06-05 -2.289071  0.583500  0.287060 -3.105647  2  alpha\n",
       "2019-06-03  0.962168  0.872061 -0.662046 -1.064587  3  gamma\n",
       "2019-06-02  2.267987  1.364987 -0.383780 -0.113308  4   beta\n",
       "2019-06-04  2.289349 -0.220349  0.783818 -1.860752  4  gamma\n",
       "2019-06-01  0.315073  1.153150 -0.181305  1.293432  5  alpha"
      ]
     },
     "execution_count": 17,
     "metadata": {},
     "output_type": "execute_result"
    }
   ],
   "source": [
    "# E열과 F열을 동시에 고려하여, 오름차순으로 하려면?\n",
    "df2.sort_values(by=['E','F'])"
   ]
  },
  {
   "cell_type": "code",
   "execution_count": 19,
   "metadata": {},
   "outputs": [
    {
     "data": {
      "text/plain": [
       "array(['alpha', 'beta', 'gamma'], dtype=object)"
      ]
     },
     "execution_count": 19,
     "metadata": {},
     "output_type": "execute_result"
    }
   ],
   "source": [
    "# 지정한 행 또는 열에서 중복값을 제외한 유니크한 값만 얻기\n",
    "df2['F'].unique()"
   ]
  },
  {
   "cell_type": "code",
   "execution_count": 21,
   "metadata": {},
   "outputs": [
    {
     "data": {
      "text/plain": [
       "gamma    3\n",
       "alpha    2\n",
       "beta     1\n",
       "Name: F, dtype: int64"
      ]
     },
     "execution_count": 21,
     "metadata": {},
     "output_type": "execute_result"
    }
   ],
   "source": [
    "# 지정한 행 또는 열에서 값에 따른 개수 얻기\n",
    "df2['F'].value_counts()"
   ]
  },
  {
   "cell_type": "code",
   "execution_count": 22,
   "metadata": {},
   "outputs": [
    {
     "data": {
      "text/plain": [
       "2019-06-01     True\n",
       "2019-06-02     True\n",
       "2019-06-03    False\n",
       "2019-06-04    False\n",
       "2019-06-05     True\n",
       "2019-06-06    False\n",
       "Freq: D, Name: F, dtype: bool"
      ]
     },
     "execution_count": 22,
     "metadata": {},
     "output_type": "execute_result"
    }
   ],
   "source": [
    "# 지정한 행 또는 열에서 입력한 값이 있는지 확인하기\n",
    "df2['F'].isin(['alpha','beta'])"
   ]
  },
  {
   "cell_type": "code",
   "execution_count": 25,
   "metadata": {},
   "outputs": [
    {
     "data": {
      "text/html": [
       "<div>\n",
       "<style scoped>\n",
       "    .dataframe tbody tr th:only-of-type {\n",
       "        vertical-align: middle;\n",
       "    }\n",
       "\n",
       "    .dataframe tbody tr th {\n",
       "        vertical-align: top;\n",
       "    }\n",
       "\n",
       "    .dataframe thead th {\n",
       "        text-align: right;\n",
       "    }\n",
       "</style>\n",
       "<table border=\"1\" class=\"dataframe\">\n",
       "  <thead>\n",
       "    <tr style=\"text-align: right;\">\n",
       "      <th></th>\n",
       "      <th>D</th>\n",
       "      <th>B</th>\n",
       "      <th>C</th>\n",
       "      <th>A</th>\n",
       "      <th>E</th>\n",
       "      <th>F</th>\n",
       "    </tr>\n",
       "  </thead>\n",
       "  <tbody>\n",
       "    <tr>\n",
       "      <th>2019-06-04</th>\n",
       "      <td>1.169608</td>\n",
       "      <td>-0.315985</td>\n",
       "      <td>-0.188119</td>\n",
       "      <td>2.462044</td>\n",
       "      <td>4</td>\n",
       "      <td>alpha</td>\n",
       "    </tr>\n",
       "    <tr>\n",
       "      <th>2019-06-01</th>\n",
       "      <td>0.417706</td>\n",
       "      <td>-0.359343</td>\n",
       "      <td>-1.027746</td>\n",
       "      <td>-0.346147</td>\n",
       "      <td>4</td>\n",
       "      <td>beta</td>\n",
       "    </tr>\n",
       "    <tr>\n",
       "      <th>2019-06-05</th>\n",
       "      <td>1.599636</td>\n",
       "      <td>1.462682</td>\n",
       "      <td>-0.157340</td>\n",
       "      <td>-0.545625</td>\n",
       "      <td>0</td>\n",
       "      <td>alpha</td>\n",
       "    </tr>\n",
       "  </tbody>\n",
       "</table>\n",
       "</div>"
      ],
      "text/plain": [
       "                   D         B         C         A  E      F\n",
       "2019-06-04  1.169608 -0.315985 -0.188119  2.462044  4  alpha\n",
       "2019-06-01  0.417706 -0.359343 -1.027746 -0.346147  4   beta\n",
       "2019-06-05  1.599636  1.462682 -0.157340 -0.545625  0  alpha"
      ]
     },
     "execution_count": 25,
     "metadata": {},
     "output_type": "execute_result"
    }
   ],
   "source": [
    "# F열의 값이 alpha나 beta인 모든 행 구하기\n",
    "........"
   ]
  },
  {
   "cell_type": "code",
   "execution_count": 24,
   "metadata": {},
   "outputs": [
    {
     "data": {
      "text/html": [
       "<div>\n",
       "<style scoped>\n",
       "    .dataframe tbody tr th:only-of-type {\n",
       "        vertical-align: middle;\n",
       "    }\n",
       "\n",
       "    .dataframe tbody tr th {\n",
       "        vertical-align: top;\n",
       "    }\n",
       "\n",
       "    .dataframe thead th {\n",
       "        text-align: right;\n",
       "    }\n",
       "</style>\n",
       "<table border=\"1\" class=\"dataframe\">\n",
       "  <thead>\n",
       "    <tr style=\"text-align: right;\">\n",
       "      <th></th>\n",
       "      <th>b</th>\n",
       "      <th>d</th>\n",
       "      <th>e</th>\n",
       "    </tr>\n",
       "  </thead>\n",
       "  <tbody>\n",
       "    <tr>\n",
       "      <th>Seoul</th>\n",
       "      <td>0.330260</td>\n",
       "      <td>0.525573</td>\n",
       "      <td>0.398145</td>\n",
       "    </tr>\n",
       "    <tr>\n",
       "      <th>Incheon</th>\n",
       "      <td>-1.416863</td>\n",
       "      <td>-0.350369</td>\n",
       "      <td>-1.080336</td>\n",
       "    </tr>\n",
       "    <tr>\n",
       "      <th>Busan</th>\n",
       "      <td>0.947843</td>\n",
       "      <td>0.228625</td>\n",
       "      <td>-0.826335</td>\n",
       "    </tr>\n",
       "    <tr>\n",
       "      <th>Daegu</th>\n",
       "      <td>0.277516</td>\n",
       "      <td>0.509570</td>\n",
       "      <td>0.882472</td>\n",
       "    </tr>\n",
       "  </tbody>\n",
       "</table>\n",
       "</div>"
      ],
      "text/plain": [
       "                b         d         e\n",
       "Seoul    0.330260  0.525573  0.398145\n",
       "Incheon -1.416863 -0.350369 -1.080336\n",
       "Busan    0.947843  0.228625 -0.826335\n",
       "Daegu    0.277516  0.509570  0.882472"
      ]
     },
     "execution_count": 24,
     "metadata": {},
     "output_type": "execute_result"
    }
   ],
   "source": [
    "## 사용자가 직접 만든 함수를 적용하기\n",
    "df3 = pd.DataFrame(np.random.randn(4, 3), columns=[\"b\", \"d\", \"e\"],\n",
    "                   index=[\"Seoul\", \"Incheon\", \"Busan\", \"Daegu\"])\n",
    "df3"
   ]
  },
  {
   "cell_type": "code",
   "execution_count": 25,
   "metadata": {},
   "outputs": [
    {
     "data": {
      "text/plain": [
       "b    2.364706\n",
       "d    0.875942\n",
       "e    1.962807\n",
       "dtype: float64"
      ]
     },
     "execution_count": 25,
     "metadata": {},
     "output_type": "execute_result"
    }
   ],
   "source": [
    "func = lambda x: x.max() - x.min()\n",
    "df3.apply(func, axis=0)"
   ]
  },
  {
   "cell_type": "code",
   "execution_count": null,
   "metadata": {},
   "outputs": [],
   "source": []
  }
 ],
 "metadata": {
  "kernelspec": {
   "display_name": "Python 3",
   "language": "python",
   "name": "python3"
  },
  "language_info": {
   "codemirror_mode": {
    "name": "ipython",
    "version": 3
   },
   "file_extension": ".py",
   "mimetype": "text/x-python",
   "name": "python",
   "nbconvert_exporter": "python",
   "pygments_lexer": "ipython3",
   "version": "3.6.9"
  }
 },
 "nbformat": 4,
 "nbformat_minor": 2
}
